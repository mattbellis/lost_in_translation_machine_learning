{
 "cells": [
  {
   "cell_type": "code",
   "execution_count": null,
   "id": "4db84add",
   "metadata": {},
   "outputs": [],
   "source": [
    "import numpy as np\n",
    "import matplotlib.pylab as plt\n",
    "\n",
    "import lit_ml_tools as lit\n",
    "\n",
    "# This will reload modules that have been edited\n",
    "%load_ext autoreload\n",
    "%autoreload 2"
   ]
  },
  {
   "cell_type": "code",
   "execution_count": null,
   "id": "9fa7ce6b",
   "metadata": {},
   "outputs": [],
   "source": [
    "# Manual Variables\n",
    "nentries = 10000\n",
    "nfeatures = 5\n",
    "\n",
    "# Datasets\n",
    "dataset1= lit.gen_original_data(nentries, nfeatures, dtype='normal')\n",
    "dataset2= lit.shuffle_dataset(dataset1)\n",
    "alldata,labels= lit.concat_dataset(dataset1, dataset2, wantplots=False)\n",
    "\n",
    "lit.sumfunc(dataset1);\n",
    "lit.histfunc(dataset1);\n",
    "\n",
    "lit.sumfunc(dataset2);\n",
    "lit.histfunc(dataset2);"
   ]
  },
  {
   "cell_type": "code",
   "execution_count": null,
   "id": "bccf3d4f",
   "metadata": {},
   "outputs": [],
   "source": [
    "w,b= lit.neuralnet(dataset1, dataset2, num_hidden_layers=7, wantplots=False)\n",
    "lit.draw_network(b,w, figsize=(6,6))"
   ]
  },
  {
   "cell_type": "markdown",
   "id": "974b0386",
   "metadata": {},
   "source": [
    "# Run a lot"
   ]
  },
  {
   "cell_type": "code",
   "execution_count": null,
   "id": "a238da1b",
   "metadata": {},
   "outputs": [],
   "source": [
    "# Sum to 1\n",
    "nentries = 10000\n",
    "nfeatures = 5\n",
    "\n",
    "ntrials = 16\n",
    "\n",
    "fig = plt.figure(figsize=(16,12))\n",
    "\n",
    "for idx in range(ntrials):\n",
    "    \n",
    "    plt.subplot(4,4,idx+1)\n",
    "\n",
    "    # Datasets\n",
    "    dataset1= lit.gen_original_data(nentries, nfeatures, dtype='normal')\n",
    "    dataset2= lit.shuffle_dataset(dataset1)\n",
    "    alldata,labels= lit.concat_dataset(dataset1, dataset2, wantplots=False)\n",
    "\n",
    "    w,b= lit.neuralnet(dataset1, dataset2, num_hidden_layers=7, wantplots=False)\n",
    "    #lit.draw_network(b,w, figsize=(6,6))\n",
    "    lit.draw_network(b,w, ax=plt.gca())"
   ]
  },
  {
   "cell_type": "code",
   "execution_count": null,
   "id": "7e96642d",
   "metadata": {},
   "outputs": [],
   "source": [
    "# Squared sum to 1\n",
    "nentries = 10000\n",
    "nfeatures = 5\n",
    "\n",
    "ntrials = 16\n",
    "\n",
    "fig = plt.figure(figsize=(16,12))\n",
    "\n",
    "for idx in range(ntrials):\n",
    "    \n",
    "    plt.subplot(4,4,idx+1)\n",
    "\n",
    "    # Datasets\n",
    "    dataset1= lit.gen_original_data(nentries, nfeatures, dtype='squared')\n",
    "    dataset2= lit.shuffle_dataset(dataset1)\n",
    "    alldata,labels= lit.concat_dataset(dataset1, dataset2, wantplots=False)\n",
    "\n",
    "    w,b= lit.neuralnet(dataset1, dataset2, num_hidden_layers=7, wantplots=False)\n",
    "    #lit.draw_network(b,w, figsize=(6,6))\n",
    "    lit.draw_network(b,w, ax=plt.gca())"
   ]
  },
  {
   "cell_type": "code",
   "execution_count": null,
   "id": "85c930fd",
   "metadata": {},
   "outputs": [],
   "source": []
  }
 ],
 "metadata": {
  "kernelspec": {
   "display_name": "Python 3 (ipykernel)",
   "language": "python",
   "name": "python3"
  },
  "language_info": {
   "codemirror_mode": {
    "name": "ipython",
    "version": 3
   },
   "file_extension": ".py",
   "mimetype": "text/x-python",
   "name": "python",
   "nbconvert_exporter": "python",
   "pygments_lexer": "ipython3",
   "version": "3.9.7"
  }
 },
 "nbformat": 4,
 "nbformat_minor": 5
}
