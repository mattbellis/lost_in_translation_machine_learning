{
 "cells": [
  {
   "cell_type": "code",
   "execution_count": null,
   "id": "4db84add",
   "metadata": {},
   "outputs": [],
   "source": [
    "import numpy as np\n",
    "import matplotlib.pylab as plt\n",
    "\n",
    "import lit_ml_tools as lit\n",
    "\n",
    "# This will reload modules that have been edited\n",
    "%load_ext autoreload\n",
    "%autoreload 2"
   ]
  },
  {
   "cell_type": "markdown",
   "id": "4c8aa51d",
   "metadata": {},
   "source": [
    "https://matplotlib.org/stable/tutorials/colors/colormaps.html"
   ]
  },
  {
   "cell_type": "code",
   "execution_count": null,
   "id": "0ac56f54",
   "metadata": {},
   "outputs": [],
   "source": [
    "# Trying out colors\n",
    "#weight = np.array([-1,-0.4,0.4])\n",
    "weight = np.linspace(-1,1,100)\n",
    "for i,w in enumerate(weight):\n",
    "    color = plt.cm.viridis((w+1)/2.0)\n",
    "    #print(color)\n",
    "\n",
    "    plt.plot([i],[i],'o',markersize=20,color=color)"
   ]
  },
  {
   "cell_type": "code",
   "execution_count": null,
   "id": "9fa7ce6b",
   "metadata": {},
   "outputs": [],
   "source": [
    "# Manual Variables\n",
    "nentries = 10000\n",
    "nfeatures = 12\n",
    "\n",
    "# Datasets\n",
    "dataset1= lit.gen_original_data(nentries, nfeatures, dtype='normal')\n",
    "dataset2= lit.shuffle_dataset(dataset1)\n",
    "\n",
    "alldata,labels= lit.concat_dataset(dataset1, dataset2, wantplots=False)\n",
    "\n",
    "lit.sumfunc(dataset1);\n",
    "lit.histfunc(dataset1);\n",
    "\n",
    "lit.sumfunc(dataset2);\n",
    "lit.histfunc(dataset2);"
   ]
  },
  {
   "cell_type": "code",
   "execution_count": null,
   "id": "bccf3d4f",
   "metadata": {},
   "outputs": [],
   "source": [
    "w,b= lit.neuralnet(dataset1, dataset2, num_hidden_layers=(nfeatures,5, 5), wantplots=True)\n",
    "lit.draw_network(b,w, figsize=(6,6))"
   ]
  },
  {
   "cell_type": "code",
   "execution_count": null,
   "id": "8e185c54",
   "metadata": {},
   "outputs": [],
   "source": [
    "# Manual Variables\n",
    "nentries = 10000\n",
    "nfeatures = 4\n",
    "\n",
    "# Datasets\n",
    "dataset1= lit.gen_original_data(nentries, nfeatures, dtype='relativity')\n",
    "dataset2= lit.shuffle_dataset(dataset1)\n",
    "alldata,labels= lit.concat_dataset(dataset1, dataset2, wantplots=False)\n",
    "\n",
    "lit.sumfunc(dataset1,plot_range=(-1,5));\n",
    "\n",
    "lit.sumfunc(dataset1,dtype='relativity', plot_range=(-1,5));\n",
    "lit.histfunc(dataset1,plot_range=(-1,2));\n",
    "\n",
    "lit.sumfunc(dataset2,dtype='relativity', plot_range=(-5,5));\n",
    "lit.histfunc(dataset2,plot_range=(-1,2));\n"
   ]
  },
  {
   "cell_type": "code",
   "execution_count": null,
   "id": "086b2464",
   "metadata": {},
   "outputs": [],
   "source": [
    "dataset1"
   ]
  },
  {
   "cell_type": "markdown",
   "id": "974b0386",
   "metadata": {},
   "source": [
    "# Run a lot"
   ]
  },
  {
   "cell_type": "code",
   "execution_count": null,
   "id": "a238da1b",
   "metadata": {},
   "outputs": [],
   "source": [
    "# Sum to 1\n",
    "nentries = 10000\n",
    "nfeatures = 4\n",
    "\n",
    "ntrials = 16\n",
    "\n",
    "fig = plt.figure(figsize=(16,12))\n",
    "\n",
    "for idx in range(ntrials):\n",
    "    \n",
    "    plt.subplot(4,4,idx+1)\n",
    "\n",
    "    # Datasets\n",
    "    dataset1= lit.gen_original_data(nentries, nfeatures, dtype='normal')\n",
    "    dataset2= lit.shuffle_dataset(dataset1)\n",
    "    alldata,labels= lit.concat_dataset(dataset1, dataset2, wantplots=False)\n",
    "\n",
    "    w,b= lit.neuralnet(dataset1, dataset2, num_hidden_layers=(nfeatures, 6), wantplots=False)\n",
    "    #lit.draw_network(b,w, figsize=(6,6))\n",
    "    lit.draw_network(b,w, ax=plt.gca())"
   ]
  },
  {
   "cell_type": "code",
   "execution_count": null,
   "id": "7e96642d",
   "metadata": {},
   "outputs": [],
   "source": [
    "# Squared sum to 1\n",
    "nentries = 10000\n",
    "nfeatures = 4\n",
    "\n",
    "ntrials = 16\n",
    "\n",
    "fig = plt.figure(figsize=(16,12))\n",
    "\n",
    "for idx in range(ntrials):\n",
    "    \n",
    "    plt.subplot(4,4,idx+1)\n",
    "\n",
    "    # Datasets\n",
    "    dataset1= lit.gen_original_data(nentries, nfeatures, dtype='squared')\n",
    "    dataset2= lit.shuffle_dataset(dataset1)\n",
    "    alldata,labels= lit.concat_dataset(dataset1, dataset2, wantplots=False)\n",
    "\n",
    "    w,b= lit.neuralnet(dataset1, dataset2, num_hidden_layers=(nfeatures, nfeatures, 2), wantplots=False)\n",
    "    #lit.draw_network(b,w, figsize=(6,6))\n",
    "    lit.draw_network(b,w, ax=plt.gca())"
   ]
  },
  {
   "cell_type": "code",
   "execution_count": null,
   "id": "85c930fd",
   "metadata": {},
   "outputs": [],
   "source": [
    "# Relativity\n",
    "nentries = 10000\n",
    "nfeatures = 4\n",
    "\n",
    "# Datasets\n",
    "dataset1= lit.gen_original_data(nentries, nfeatures, dtype='relativity')\n",
    "\n",
    "ntrials = 16\n",
    "\n",
    "fig = plt.figure(figsize=(16,12))\n",
    "\n",
    "for idx in range(ntrials):\n",
    "    \n",
    "    plt.subplot(4,4,idx+1)\n",
    "\n",
    "    # Datasets\n",
    "    dataset1= lit.gen_original_data(nentries, nfeatures, dtype='squared')\n",
    "    dataset2= lit.shuffle_dataset(dataset1)\n",
    "    alldata,labels= lit.concat_dataset(dataset1, dataset2, wantplots=False)\n",
    "\n",
    "    w,b= lit.neuralnet(dataset1, dataset2, num_hidden_layers=(nfeatures, 5, 5), wantplots=False)\n",
    "    #lit.draw_network(b,w, figsize=(6,6))\n",
    "    lit.draw_network(b,w, ax=plt.gca())"
   ]
  },
  {
   "cell_type": "code",
   "execution_count": null,
   "id": "a9f1dc9e",
   "metadata": {
    "scrolled": false
   },
   "outputs": [],
   "source": [
    "# Relativity\n",
    "nentries = 10000\n",
    "nfeatures = 4\n",
    "\n",
    "# Datasets\n",
    "dataset1= lit.gen_original_data(nentries, nfeatures, dtype='relativity')\n",
    "dataset2= lit.shuffle_dataset(dataset1)\n",
    "\n",
    "lit.sumfunc(dataset1,dtype='relativity', plot_range=(-1,5));\n",
    "lit.histfunc(dataset1,plot_range=(-1,2));\n",
    "\n",
    "lit.sumfunc(dataset2,dtype='relativity', plot_range=(-5,5));\n",
    "lit.histfunc(dataset2,plot_range=(-1,2));\n",
    "\n",
    "\n",
    "#fig = plt.figure(figsize=(16,12))\n",
    "\n",
    "#w,b= lit.neuralnet(dataset1, dataset2, num_hidden_layers=(nfeatures,5,5), wantplots=True)\n",
    "w,b= lit.neuralnet(dataset1, dataset2, num_hidden_layers=(nfeatures,9,5,9), wantplots=True)\n",
    "#lit.draw_network(b,w, figsize=(6,6))\n",
    "lit.draw_network(b,w, ax=plt.gca())\n",
    "\n",
    "\n",
    "\n",
    "w,b= lit.neuralnet(dataset1, dataset2, num_hidden_layers=(nfeatures,15,15,15), wantplots=True)\n",
    "lit.draw_network(b,w, ax=plt.gca())\n",
    "\n",
    "\n",
    "\n",
    "w,b= lit.neuralnet(dataset1, dataset2, num_hidden_layers=(nfeatures,4,6,4,6,4), wantplots=True)\n",
    "lit.draw_network(b,w, ax=plt.gca())\n",
    "\n",
    "\n",
    "\n",
    "w,b= lit.neuralnet(dataset1, dataset2, num_hidden_layers=(nfeatures,4,4), wantplots=True)\n",
    "lit.draw_network(b,w, ax=plt.gca())"
   ]
  },
  {
   "cell_type": "code",
   "execution_count": null,
   "id": "5f29a47a",
   "metadata": {},
   "outputs": [],
   "source": [
    "b"
   ]
  },
  {
   "cell_type": "code",
   "execution_count": null,
   "id": "53831418",
   "metadata": {},
   "outputs": [],
   "source": [
    "w"
   ]
  },
  {
   "cell_type": "code",
   "execution_count": null,
   "id": "ccb67096",
   "metadata": {},
   "outputs": [],
   "source": []
  }
 ],
 "metadata": {
  "kernelspec": {
   "display_name": "Python 3 (ipykernel)",
   "language": "python",
   "name": "python3"
  },
  "language_info": {
   "codemirror_mode": {
    "name": "ipython",
    "version": 3
   },
   "file_extension": ".py",
   "mimetype": "text/x-python",
   "name": "python",
   "nbconvert_exporter": "python",
   "pygments_lexer": "ipython3",
   "version": "3.9.7"
  }
 },
 "nbformat": 4,
 "nbformat_minor": 5
}
