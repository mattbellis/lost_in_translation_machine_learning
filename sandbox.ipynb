{
 "cells": [
  {
   "cell_type": "code",
   "execution_count": null,
   "id": "72c3090c",
   "metadata": {},
   "outputs": [],
   "source": [
    "import numpy as np\n",
    "import matplotlib.pylab as plt\n",
    "\n",
    "import lit_ml_tools as lit\n"
   ]
  },
  {
   "cell_type": "code",
   "execution_count": null,
   "id": "6fceffb7",
   "metadata": {},
   "outputs": [],
   "source": [
    "# This will reload modules that have been edited\n",
    "%load_ext autoreload\n",
    "%autoreload 2"
   ]
  },
  {
   "cell_type": "markdown",
   "id": "e177947c",
   "metadata": {},
   "source": [
    "# Sum adds up to 1"
   ]
  },
  {
   "cell_type": "code",
   "execution_count": null,
   "id": "c9d5833a",
   "metadata": {},
   "outputs": [],
   "source": [
    "# Normal sum\n",
    "nentries = 10000\n",
    "nfeatures = 5\n",
    "\n",
    "mydataset = lit.gen_original_data(nentries, nfeatures)\n",
    "\n",
    "lit.sumfunc(mydataset);\n",
    "lit.histfunc(mydataset);"
   ]
  },
  {
   "cell_type": "markdown",
   "id": "02ecdcda",
   "metadata": {},
   "source": [
    "# Squares add up to 1"
   ]
  },
  {
   "cell_type": "code",
   "execution_count": null,
   "id": "4b20bd1a",
   "metadata": {},
   "outputs": [],
   "source": [
    "# Sum of the squares\n",
    "nentries = 10000\n",
    "nfeatures = 5\n",
    "\n",
    "# Generate the data\n",
    "mydataset = lit.gen_original_data(nentries, nfeatures, dtype='squared')\n",
    "\n",
    "# This is wrong!\n",
    "lit.sumfunc(mydataset, plot_range=(0,3))\n",
    "\n",
    "# This is right!\n",
    "lit.sumfunc(mydataset, dtype='squared', plot_range=(0,3))\n",
    "lit.histfunc(mydataset)"
   ]
  },
  {
   "cell_type": "markdown",
   "id": "d4d4675a",
   "metadata": {},
   "source": [
    "# Tests of NN training / plots"
   ]
  },
  {
   "cell_type": "code",
   "execution_count": null,
   "id": "a9c103bf",
   "metadata": {},
   "outputs": [],
   "source": [
    "# Manual Variables\n",
    "nentries = 10000\n",
    "nfeatures = 5\n",
    "\n",
    "# Datasets\n",
    "dataset1= lit.gen_original_data(nentries, nfeatures, dtype='normal')\n",
    "dataset2= lit.shuffle_dataset(dataset1)\n",
    "alldata,labels= lit.concat_dataset(dataset1, dataset2, wantplots=False)\n",
    "\n",
    "lit.sumfunc(dataset1);\n",
    "lit.histfunc(dataset1);\n",
    "\n",
    "lit.sumfunc(dataset2);\n",
    "lit.histfunc(dataset2);"
   ]
  },
  {
   "cell_type": "code",
   "execution_count": null,
   "id": "d2aa7116",
   "metadata": {},
   "outputs": [],
   "source": [
    "lit.correlations(dataset1, dataset2, label=0, wantplots=True, ax1=None)\n",
    "lit.correlations(dataset1, dataset2, label=1, wantplots=True, ax1=None)\n",
    "# label=0: dataset 1 , label=1: dataset 2"
   ]
  },
  {
   "cell_type": "code",
   "execution_count": null,
   "id": "67f9f04d",
   "metadata": {},
   "outputs": [],
   "source": [
    "for i in range(5):\n",
    "    print(sum(dataset1[i]),sum(dataset2[i]))"
   ]
  },
  {
   "cell_type": "code",
   "execution_count": null,
   "id": "2c4e54f3",
   "metadata": {},
   "outputs": [],
   "source": [
    "w,b= lit.neuralnet(dataset1, dataset2, num_hidden_layers=7, wantplots=True)"
   ]
  },
  {
   "cell_type": "code",
   "execution_count": null,
   "id": "971acd9a",
   "metadata": {},
   "outputs": [],
   "source": [
    "print(w[0:10],'\\n')\n",
    "print(b[0:10])"
   ]
  },
  {
   "cell_type": "code",
   "execution_count": null,
   "id": "be5327c2",
   "metadata": {},
   "outputs": [],
   "source": [
    "## please commit"
   ]
  },
  {
   "cell_type": "code",
   "execution_count": null,
   "id": "71710a21",
   "metadata": {},
   "outputs": [],
   "source": [
    "lit.draw_network(b,w)"
   ]
  },
  {
   "cell_type": "code",
   "execution_count": null,
   "id": "5da580e2",
   "metadata": {},
   "outputs": [],
   "source": []
  }
 ],
 "metadata": {
  "kernelspec": {
   "display_name": "Python 3 (ipykernel)",
   "language": "python",
   "name": "python3"
  },
  "language_info": {
   "codemirror_mode": {
    "name": "ipython",
    "version": 3
   },
   "file_extension": ".py",
   "mimetype": "text/x-python",
   "name": "python",
   "nbconvert_exporter": "python",
   "pygments_lexer": "ipython3",
   "version": "3.9.7"
  }
 },
 "nbformat": 4,
 "nbformat_minor": 5
}
